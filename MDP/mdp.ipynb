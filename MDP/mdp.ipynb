{
 "cells": [
  {
   "cell_type": "markdown",
   "metadata": {},
   "source": [
    "Let us consider a simple example for Markov decision process\n",
    "\n",
    "<img src='https://upload.wikimedia.org/wikipedia/commons/thumb/a/ad/Markov_Decision_Process.svg/800px-Markov_Decision_Process.svg.png' width=500px>"
   ]
  },
  {
   "cell_type": "code",
   "execution_count": 1,
   "metadata": {},
   "outputs": [],
   "source": [
    "# states\n",
    "S = ['s0', 's1', 's2']\n",
    "\n",
    "# actions\n",
    "A = ['a0', 'a1']\n",
    "\n",
    "# Probability transition\n",
    "P = {'a0': [[0.5, 0, 0.5],\n",
    "           [0.7, 0.1, 0.2],\n",
    "           [0.4, 0.6, 0]],\n",
    "     'a1': [[0, 0, 1],\n",
    "           [0, 0.95, 0.05],\n",
    "           [0.3, 0.3, 0.4]]}\n",
    "\n",
    "# rewards\n",
    "# let us assume we have a static reward setting\n",
    "           \n",
    "R = {'s1_a0_s0': 5, 's2_a1_s0': -1}\n",
    "# all other transitions ends up with zero reward\n"
   ]
  },
  {
   "cell_type": "markdown",
   "metadata": {},
   "source": [
    "## Usually each state is connected with only few other states hence above model can be better represented in a consise format as below"
   ]
  },
  {
   "cell_type": "code",
   "execution_count": 2,
   "metadata": {},
   "outputs": [],
   "source": [
    "transition_probs = {\n",
    "        's0':{\n",
    "        'a0': {'s0': 0.5, 's2': 0.5},\n",
    "        'a1': {'s2': 1}\n",
    "        },\n",
    "        's1':{\n",
    "        'a0': {'s0': 0.7, 's1': 0.1, 's2': 0.2},\n",
    "        'a1': {'s1': 0.95, 's2': 0.05}\n",
    "        },\n",
    "        's2':{\n",
    "        'a0': {'s0': 0.4, 's1': 0.6},\n",
    "        'a1': {'s0': 0.3, 's1': 0.3, 's2':0.1, 'T':0.3}\n",
    "        },\n",
    "        'T':{}\n",
    "    }\n",
    "rewards = {\n",
    "    's1': {'a0': {'s0': +5}},\n",
    "    's2': {'a1': {'s0': -1}}\n",
    "}"
   ]
  },
  {
   "cell_type": "code",
   "execution_count": 5,
   "metadata": {},
   "outputs": [
    {
     "name": "stdout",
     "output_type": "stream",
     "text": [
      "0th episode has 11 number of transition\n",
      "[('s0', 'a0', 0.0, 's2'), ('s2', 'a1', -1, 's0'), ('s0', 'a1', 0.0, 's2'), ('s2', 'a1', -1, 's0'), ('s0', 'a1', 0.0, 's2'), ('s2', 'a1', -1, 's0'), ('s0', 'a1', 0.0, 's2'), ('s2', 'a0', 0.0, 's1'), ('s1', 'a0', 5, 's0'), ('s0', 'a0', 0.0, 's2'), ('s2', 'a1', 0.0, 'T')]\n",
      "1th episode has 19 number of transition\n",
      "[('s1', 'a1', 0.0, 's1'), ('s1', 'a1', 0.0, 's1'), ('s1', 'a0', 5, 's0'), ('s0', 'a0', 0.0, 's0'), ('s0', 'a0', 0.0, 's0'), ('s0', 'a0', 0.0, 's2'), ('s2', 'a0', 0.0, 's0'), ('s0', 'a1', 0.0, 's2'), ('s2', 'a0', 0.0, 's1'), ('s1', 'a0', 5, 's0'), ('s0', 'a1', 0.0, 's2'), ('s2', 'a0', 0.0, 's0'), ('s0', 'a0', 0.0, 's0'), ('s0', 'a1', 0.0, 's2'), ('s2', 'a1', 0.0, 's1'), ('s1', 'a1', 0.0, 's1'), ('s1', 'a1', 0.0, 's1'), ('s1', 'a0', 0.0, 's2'), ('s2', 'a1', 0.0, 'T')]\n",
      "2th episode has 2 number of transition\n",
      "[('s0', 'a1', 0.0, 's2'), ('s2', 'a1', 0.0, 'T')]\n",
      "3th episode has 14 number of transition\n",
      "[('s1', 'a0', 5, 's0'), ('s0', 'a0', 0.0, 's2'), ('s2', 'a0', 0.0, 's0'), ('s0', 'a0', 0.0, 's0'), ('s0', 'a1', 0.0, 's2'), ('s2', 'a0', 0.0, 's0'), ('s0', 'a0', 0.0, 's0'), ('s0', 'a0', 0.0, 's2'), ('s2', 'a1', 0.0, 's1'), ('s1', 'a1', 0.0, 's1'), ('s1', 'a1', 0.0, 's1'), ('s1', 'a0', 5, 's0'), ('s0', 'a0', 0.0, 's2'), ('s2', 'a1', 0.0, 'T')]\n",
      "4th episode has 24 number of transition\n",
      "[('s0', 'a1', 0.0, 's2'), ('s2', 'a1', 0.0, 's1'), ('s1', 'a1', 0.0, 's1'), ('s1', 'a0', 5, 's0'), ('s0', 'a0', 0.0, 's2'), ('s2', 'a1', 0.0, 's1'), ('s1', 'a1', 0.0, 's1'), ('s1', 'a0', 5, 's0'), ('s0', 'a1', 0.0, 's2'), ('s2', 'a0', 0.0, 's1'), ('s1', 'a0', 5, 's0'), ('s0', 'a0', 0.0, 's0'), ('s0', 'a0', 0.0, 's2'), ('s2', 'a1', 0.0, 's1'), ('s1', 'a1', 0.0, 's1'), ('s1', 'a0', 5, 's0'), ('s0', 'a0', 0.0, 's2'), ('s2', 'a1', 0.0, 's2'), ('s2', 'a1', -1, 's0'), ('s0', 'a1', 0.0, 's2'), ('s2', 'a0', 0.0, 's1'), ('s1', 'a0', 5, 's0'), ('s0', 'a0', 0.0, 's2'), ('s2', 'a1', 0.0, 'T')]\n"
     ]
    }
   ],
   "source": [
    "from mdp import MDP\n",
    "\n",
    "mdp = MDP(transition_probs, rewards)\n",
    "\n",
    "# lets create some sample trajectories / episodes \n",
    "for i in range(5):\n",
    "    episode = mdp.generate_episodes()\n",
    "    print('{}th episode has {} number of transition'.format(i, len(episode)))\n",
    "    print(episode)"
   ]
  },
  {
   "cell_type": "code",
   "execution_count": 9,
   "metadata": {},
   "outputs": [],
   "source": [
    "def get_return(episode, t, gamma):\n",
    "    if len(episode) > t:  \n",
    "        return episode[t][2] + gamma * get_return(episode, t+1, gamma)\n",
    "    else:\n",
    "        return 0"
   ]
  },
  {
   "cell_type": "code",
   "execution_count": 21,
   "metadata": {},
   "outputs": [
    {
     "data": {
      "text/plain": [
       "9.09103577045"
      ]
     },
     "execution_count": 21,
     "metadata": {},
     "output_type": "execute_result"
    }
   ],
   "source": [
    "get_return(episode, 10, 0.9)"
   ]
  },
  {
   "cell_type": "code",
   "execution_count": null,
   "metadata": {},
   "outputs": [],
   "source": []
  }
 ],
 "metadata": {
  "file_extension": ".py",
  "kernelspec": {
   "display_name": "Python 3",
   "language": "python",
   "name": "python3"
  },
  "language_info": {
   "codemirror_mode": {
    "name": "ipython",
    "version": 3
   },
   "file_extension": ".py",
   "mimetype": "text/x-python",
   "name": "python",
   "nbconvert_exporter": "python",
   "pygments_lexer": "ipython3",
   "version": "3.7.4"
  },
  "mimetype": "text/x-python",
  "name": "python",
  "npconvert_exporter": "python",
  "pygments_lexer": "ipython3",
  "version": 3
 },
 "nbformat": 4,
 "nbformat_minor": 2
}
