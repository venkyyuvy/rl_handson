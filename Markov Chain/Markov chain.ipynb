{
 "cells": [
  {
   "cell_type": "markdown",
   "metadata": {},
   "source": [
    "# <center>Markov Chains"
   ]
  },
  {
   "cell_type": "markdown",
   "metadata": {},
   "source": [
    "![alt text](Markov_chain.jpg \"Title\")"
   ]
  },
  {
   "cell_type": "markdown",
   "metadata": {},
   "source": [
    "<center>Transistion probabilities for different states <br/>\n",
    "States = ['Bull Market', 'Bear Market', 'Stagnant Market']"
   ]
  },
  {
   "cell_type": "markdown",
   "metadata": {},
   "source": [
    "| |Bull Market | Bear Market| Stagnant Market |\n",
    "| --- | --- | --- | --- |\n",
    "|Bull Market | 0.975 | 0.02 | 0.05 |\n",
    "|Bear Market|0.3| 0.5| 0.2|\n",
    "|Stagnant Market |0.0|,0.4|0.58|"
   ]
  },
  {
   "cell_type": "code",
   "execution_count": 1,
   "metadata": {},
   "outputs": [
    {
     "data": {
      "text/html": [
       "\n",
       "        <iframe\n",
       "            width=\"700\"\n",
       "            height=\"600\"\n",
       "            src=\"http://setosa.io/markov/index.html#%7B%22tm%22%3A%5B%5B0.975%2C0.02%2C0.005%5D%2C%5B0.3%2C0.5%2C0.2%5D%2C%5B0.02%2C0.4%2C0.58%5D%5D%7D\"\n",
       "            frameborder=\"0\"\n",
       "            allowfullscreen\n",
       "        ></iframe>\n",
       "        "
      ],
      "text/plain": [
       "<IPython.lib.display.IFrame at 0x107469bd0>"
      ]
     },
     "execution_count": 1,
     "metadata": {},
     "output_type": "execute_result"
    }
   ],
   "source": [
    "from IPython.display import IFrame\n",
    "\n",
    "IFrame(src='http://setosa.io/markov/index.html#%7B%22tm%22%3A%5B%5B0.975%2C0.02%2C0.005%5D%2C%5B0.3%2C0.5%2C0.2%5D%2C%5B0.02%2C0.4%2C0.58%5D%5D%7D', width=700, height=600)\n",
    "#Source: http://setosa.io/blog/2014/07/26/markov-chains/index.html"
   ]
  },
  {
   "cell_type": "code",
   "execution_count": 2,
   "metadata": {},
   "outputs": [],
   "source": [
    "from MarkovChain import MarkovChain"
   ]
  },
  {
   "cell_type": "code",
   "execution_count": 3,
   "metadata": {},
   "outputs": [],
   "source": [
    "transition_prob = {'Bull Market': {'Bull Market': 0.975, 'Bear Market': 0.02, \n",
    " 'Stagnant Market': 0.005},\n",
    "                   'Bear Market': {'Bull Market': 0.3, 'Bear Market': 0.5, \n",
    " 'Stagnant Market': 0.2},\n",
    "                   'Stagnant Market': {'Bull Market': 0.02, 'Bear Market': 0.4, \n",
    " 'Stagnant Market': 0.58}}\n"
   ]
  },
  {
   "cell_type": "code",
   "execution_count": 4,
   "metadata": {},
   "outputs": [],
   "source": [
    "Market_chain = MarkovChain(transition_prob=transition_prob)"
   ]
  },
  {
   "cell_type": "markdown",
   "metadata": {},
   "source": [
    "### Predicting the next state"
   ]
  },
  {
   "cell_type": "code",
   "execution_count": 5,
   "metadata": {},
   "outputs": [
    {
     "data": {
      "text/plain": [
       "'Bear Market'"
      ]
     },
     "execution_count": 5,
     "metadata": {},
     "output_type": "execute_result"
    }
   ],
   "source": [
    "Market_chain.next_state(current_state='Bear Market')"
   ]
  },
  {
   "cell_type": "code",
   "execution_count": 6,
   "metadata": {},
   "outputs": [
    {
     "data": {
      "text/plain": [
       "'Bull Market'"
      ]
     },
     "execution_count": 6,
     "metadata": {},
     "output_type": "execute_result"
    }
   ],
   "source": [
    "Market_chain.next_state(current_state='Bull Market')"
   ]
  },
  {
   "cell_type": "markdown",
   "metadata": {},
   "source": [
    "### Predicting next 15 states"
   ]
  },
  {
   "cell_type": "code",
   "execution_count": 7,
   "metadata": {},
   "outputs": [
    {
     "data": {
      "text/plain": [
       "['Bear Market',\n",
       " 'Stagnant Market',\n",
       " 'Bear Market',\n",
       " 'Bear Market',\n",
       " 'Stagnant Market',\n",
       " 'Stagnant Market',\n",
       " 'Stagnant Market',\n",
       " 'Stagnant Market',\n",
       " 'Bull Market',\n",
       " 'Bull Market',\n",
       " 'Bull Market',\n",
       " 'Bull Market',\n",
       " 'Bear Market',\n",
       " 'Stagnant Market',\n",
       " 'Stagnant Market']"
      ]
     },
     "execution_count": 7,
     "metadata": {},
     "output_type": "execute_result"
    }
   ],
   "source": [
    "Market_chain.generate_states(current_state='Bear Market', no=15)"
   ]
  },
  {
   "cell_type": "code",
   "execution_count": null,
   "metadata": {},
   "outputs": [],
   "source": []
  }
 ],
 "metadata": {
  "kernelspec": {
   "display_name": "Python 3",
   "language": "python",
   "name": "python3"
  },
  "language_info": {
   "codemirror_mode": {
    "name": "ipython",
    "version": 3
   },
   "file_extension": ".py",
   "mimetype": "text/x-python",
   "name": "python",
   "nbconvert_exporter": "python",
   "pygments_lexer": "ipython3",
   "version": "3.7.4"
  }
 },
 "nbformat": 4,
 "nbformat_minor": 2
}
